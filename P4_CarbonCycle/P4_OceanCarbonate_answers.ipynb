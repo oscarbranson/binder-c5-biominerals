{
 "cells": [
  {
   "cell_type": "markdown",
   "metadata": {},
   "source": [
    "# Practical 4: CaCO<sub>3</sub> production and ocean carbon.\n",
    "\n",
    "In this practical, we'll look at how the evolution of carbonate biomineralisation transformed Earth's carbon cycle.\n",
    "A more in-depth description of the model considered here is outlined in [Zeebe and Westbroek (2003)](http://www.doi.org/10.1029/2003GC000538) - it's an excellent paper, and worth a read.\n",
    "\n",
    "The interaction between carbon and calcifiers in the ocean plays a vital role in Earth's carbon cycle over Kyr time scales.\n",
    "This has not always been the case.\n",
    "The evolution of the ocean carbonate cycle can be split into three key stages:\n",
    "- **Pre-Cambrian**: Ocean carbon is dominated by inorganic process, with carbonate precipitation occurring spontaneously when weathering fluxes drive the ocean to supersaturations that exceed the inhibiting effect of cationic impurities in the ocean. Devoid of life, this is known as the *Strangelove Ocean*.\n",
    "- **Paleozoic**: Following the Cambrian Explosion there is abundant life in shallow marine environments, driving substantial biologically-mediated carbonate formation. The production of biologically mediated carbonates allowed excess saturation to be efficiently precipitated, driving a tight coupling between weathering and removal fluxes. The neritic environments where carbonate deposition dominates lends this phase its name - the *Neritian Ocean*.\n",
    "- **Mesozoic**: The onset of the Mesozoic ushered in the planktic calcifiers, shifting calcium carbonate production into the deep ocean. The presence of a significant deep-ocean carbonate store established the CCD feedback cycle, stabilising the marine carbon cycle. This period is named the *Cretian Ocean* for the extensive chalk beds formed in the period (*Creta* is Latin for chalk).\n",
    "\n",
    "The catalyst for the transitions between these states was the evolution and proliferation of carbonate biomineralisation.\n",
    "This can be conceptualised in a simple steady-state model of deep-ocean CO<sub>3</sub><sup>2-</sup> concentration, which is determined by the balance between input/ouput fluxes driven by biomineralisation.\n",
    "\n",
    "Imagine the ocean as a box. The shallowest part of the ocean floor is at a depth of 1 km, which slopes away to a maximum of 6.5 km such that the change in ocean floor area increases linearly with depth. \n",
    "Continental weathering ($F_{in}$) adds $\\mathrm{Ca^{2+}}$ and $\\mathrm{CO_3^{2-}}$ to the ocean surface, and is removed by the formation and deposition of $\\mathrm{CaCO_3}$.\n",
    "Calcification either happens in shallow neritic environments, or in the surface of the whole ocean. Carbonate formed in the surface ocean sinks towards the ocean floor where it accumulates above the lysocline and dissolves below.\n",
    "\n",
    "<img src=\"figs/model_schematic.png\" style=\"width:30%; min-width:400px;\"></img>\n",
    "\n",
    "For the purposes of this model, we'll assume that [Ca] is constant in the ocean, which makes carbonate saturation state depend solely on $\\mathrm{[CO_3^{2-}]}$, which we will denote $c$.\n",
    "Our model assumes steady-state, such that:\n",
    "$$\n",
    "\\frac{\\delta c}{\\delta t} = 0 = F_{in} - F_{out}\n",
    "$$\n",
    "Where $t$ is time, $F_{in}$ is the input of $c$ from weathering, and $F_{out}$ is the output of $c$ associated with carbonate precipitation.\n",
    "In practice, this just means that the sum outputs from the system must, by definition, always match the inputs.\n",
    "\n",
    "Another key factor we must consider is the influence of depth on the solubulity product of carbonate minerals:\n",
    "\n",
    "<img src=\"figs/saturation.png\" style=\"width:25%; min-width:400px;\"></img>\n",
    "\n",
    "To place the model within a single scale, we will deal with all concentrations relative to $\\mathrm{[CO_3^{2-}]_{sat}}$ at 1 km depth (52 $\\mathrm{\\mu mol\\ kg^{-1}}$ at $c_s$, shown in the plot), such that:\n",
    "- $c_s = 1.0$ saturation concentration at 1 km\n",
    "- $c_d = 2.83$ saturation concentration at 6.5 km"
   ]
  },
  {
   "cell_type": "markdown",
   "metadata": {},
   "source": [
    "## Carbonate Fluxes\n",
    "The first step in establishing out model is to consider the key fluxes in each type of ocean.\n",
    "\n",
    "### Strangelove Ocean\n",
    "In an ocean devoid of life, carbonate will precipitate spontaneously above a critical supersaturation $c_c$.\n",
    "We can approximate this by using a formulation that will rapidly remove carbonate above a critical concentration:\n",
    "$$\n",
    "F_{out} = \\begin{cases}0 & c < c_c \\\\ \\gamma (c - c_c)^3 & c \\geq c_c \\end{cases}\n",
    "$$\n",
    "where $\\gamma$ and the power term are arbitrary constants; this function just needs to rapidly rise above a threshold value, and does not alter the main conclusions of the model.\n",
    "\n",
    "Have a look at the shape of this function below:"
   ]
  },
  {
   "cell_type": "code",
   "execution_count": null,
   "metadata": {},
   "outputs": [],
   "source": [
    "import model\n",
    "model.plot_strangelove_F()"
   ]
  },
  {
   "cell_type": "markdown",
   "metadata": {},
   "source": [
    "<img src=\"figs/ans_p1.png\"></img>"
   ]
  },
  {
   "cell_type": "markdown",
   "metadata": {},
   "source": [
    "1. **In the following, we're going to use $c_c = 4$. Why doesn't carbonate form spontaneously below this threshold?**\n",
    "2. **Is there anything that might modify the value of $c_c$ through time?**"
   ]
  },
  {
   "cell_type": "markdown",
   "metadata": {},
   "source": [
    "<font style=\"color: red\">\n",
    "\n",
    "1. Spontaneous carbonate formation in the ocean is inhibited by the interaction of other cations (e.g. Mg) and organic molecules with nucleation processes.\n",
    "\n",
    "2. The concentration of Mg through time (not constant), the presence of microbial mats on the sea floor creating environments that enable inorganic precipitation (stromatolites)."
   ]
  },
  {
   "cell_type": "markdown",
   "metadata": {},
   "source": [
    "### Neritian Ocean\n",
    "The evolution of calcifiers in shallow marine envioronments provided a route for carbonate formation at $c < c_c$ via biomineralisation.\n",
    "The formation rates ($R$) of biominerals (and often inorganic carbonates in pure solutions) is approximated well by:\n",
    "$$\n",
    "R = k (\\Omega - 1)^{\\eta}\n",
    "$$\n",
    "where $k$ is a rate constant, and $\\eta$ is the order of reaction, which normally $\\Rightarrow 2$.\n",
    "For our purposes, we can express $\\Omega$ as:\n",
    "$$\n",
    "\\Omega = \\frac{c}{c_n}\n",
    "$$\n",
    "where $c_n$ is the $c$ at which shallow-water carbonate production approaches zero.\n",
    "For our model we need to express this relative to carbonate saturation at 1 km ($c_s$), so let:\n",
    "$$\n",
    "F_n^0 = k \\frac{c_s^2}{c_n^2}\n",
    "$$\n",
    "\n",
    "**Write an expression for the Neritic flux ($F_n$) as a function of $F_n^0, c, c_n$ and $c_s$**"
   ]
  },
  {
   "attachments": {},
   "cell_type": "markdown",
   "metadata": {},
   "source": [
    "$$\n",
    "F_{n} = k (c / c_n - 1)^2 \\\\\n",
    "= k \\frac{(c - c_n)^2}{c_n^2} \\\\\n",
    "= F_n^0 \\frac{(c - c_n)^2}{c_s^2}\n",
    "$$\n"
   ]
  },
  {
   "cell_type": "markdown",
   "metadata": {},
   "source": [
    "Look at the plot of Neritian carbonate flux relative to Strangelove below."
   ]
  },
  {
   "cell_type": "code",
   "execution_count": null,
   "metadata": {},
   "outputs": [],
   "source": [
    "model.plot_neritian_F()"
   ]
  },
  {
   "cell_type": "markdown",
   "metadata": {},
   "source": [
    "<img src=\"figs/ans_p2.png\"></img>"
   ]
  },
  {
   "cell_type": "markdown",
   "metadata": {},
   "source": [
    "The factor $F_n^0$ (horizontal dashed line) scales the neritic carbonate production, incoporating all ecological and habitat availability (sea level!) factors that may affect it.\n",
    "It is equal to $F_n$ at $c = c_n + c_s$ (vertical dashed line).\n",
    "\n",
    "1. **Which carbonate deposition mechanism will dominate in a steady state system?**\n",
    "2. **Once neritic calcification is established, is there any way to return to a 'Strangelove' state?**"
   ]
  },
  {
   "cell_type": "markdown",
   "metadata": {},
   "source": [
    "<font style=\"color: red\">\n",
    "\n",
    "1. Biologenic neritic carbonate formation occurs at lower $c$ than spontaneous inorganic formation (Strangelove), so neritic deposition will dominate.  \n",
    "\n",
    "2. To return to a Strangelove state neritic carbonate formation must be impeded to the extent that $c$ can exceed $c_c$ - i.e. maximum neritic deposition must be below $F_in$. Because neritic deposition scales exponentially with $c$, this is extremely unlikely. Therefore a Strangelove state can only exist when there is *no* biogenic calcification - you need to kill all the calcifiers!"
   ]
  },
  {
   "cell_type": "markdown",
   "metadata": {},
   "source": [
    "### Cretan Ocean\n",
    "\n",
    "The profileration of pelagic calcifiers brought about a second regime change, and established the ocean carbon cycle in its modern state.\n",
    "\n",
    "1. **What are the three main pelagic calcifiers in the modern ocean?**"
   ]
  },
  {
   "cell_type": "markdown",
   "metadata": {},
   "source": [
    "<font style=\"color: red\">\n",
    "\n",
    "1. Foraminifera, coccolithophores, pteropods."
   ]
  },
  {
   "cell_type": "markdown",
   "metadata": {},
   "source": [
    "These calcifiers add a significant pelagic depositional flux that sinks into the deep ocean.\n",
    "To describe this, we will use the observation that pelagic calcifiers produce carbonate at an approximately constant rate over a wide range of super-saturations; as long as they are above a critical supersaturation ($c_b$) biological calcification remains ~constant.\n",
    "Below $c_b$, biogenic calcification decreases ~linearly to zero.\n",
    "The response of pelagic calcifiers is therefore:\n",
    "$$\n",
    "F_p = \\begin{cases} F_p^m \\frac{c}{c_b} & c < c_b \\\\ F_p^m & c \\geq c_b \\end{cases}\n",
    "$$\n",
    "Where $F_p^m$ is the maximum biogenic production flux.\n",
    "\n",
    "1. **What factors might modify $c_b$?**\n",
    "2. **What factors might modify $F_p^m$?**"
   ]
  },
  {
   "cell_type": "markdown",
   "metadata": {},
   "source": [
    "<font style=\"color: red\">\n",
    "\n",
    "1. $c_b$ will be influenced by biomineralisation. An organism that can better isolate its calcification environment from external conditions and biologically control calcification will achieve its maximum calcification rate at lower $c$.\n",
    "\n",
    "2. $F_p^m$ will be influenced by the ecology of pelagic calcifiers. For example, if a new strain of coccolithophores evolved that could reach higher population densities at lower nutrient concentrations, this would increase $F_p^m$."
   ]
  },
  {
   "cell_type": "markdown",
   "metadata": {},
   "source": [
    "The Cretan ocean also adds a second complication: the possibility of dissolution in an under-saturated deep ocean:\n",
    "\n",
    "<img src=\"figs/cretan_schematic.png\"></img>\n",
    "\n",
    "In (a) $c > c_d$; the entire ocean is saturated, allowing carbonate to accumulate over the entire seafloor. (b) Shows the other extreme, where $c < c_s$ and no carbonate can accumulate on the seafloor. In this case, dissolution will be the negative of the pelagic production flux. (c) Shows the intermediate case ($c_s < c < c_d$), where some carbonate may accumulate above the lysocline and the rest dissolves. This may be approximated as a linear interpolation between each end-member case, following $\\frac{c_d - c}{c_d - c_s} = \\frac{c_d - c}{\\Delta}$.\n",
    "From this, we gain a multi-component dissolution function:\n",
    "$$\n",
    "F_{p-diss} = \n",
    "\\begin{cases} \n",
    "-F_p^m \\frac{c}{c_b} & c < c_s \\\\\n",
    "-F_p^m \\frac{c}{c_b} \\frac{c_d - c}{\\Delta} & c_s \\leq c \\leq c_b \\\\\n",
    "-F_p^m \\frac{c_d - c}{\\Delta} & c_b \\leq c \\leq c_d \\\\\n",
    "0 & c > c_d\n",
    "\\end{cases}\n",
    "$$\n",
    "\n",
    "The net influence of pelagic calcifiers in the Cretan is then the sum of the deposition and dissolution fluxes.\n",
    "\n",
    "Take a look at the plot below."
   ]
  },
  {
   "cell_type": "code",
   "execution_count": null,
   "metadata": {},
   "outputs": [],
   "source": [
    "model.plot_cretan_F()"
   ]
  },
  {
   "cell_type": "markdown",
   "metadata": {},
   "source": [
    "<img src=\"figs/ans_p3.png\"></img>"
   ]
  },
  {
   "cell_type": "markdown",
   "metadata": {},
   "source": [
    "The Pelagic and Neritian fluxes in the model are finely balanced. Note how the dominant flux can be switched by modifying either parameter that determines pelagic deposition.\n",
    "\n",
    "1. **Would you expect Pelagic or Neritic deposition to be more stable in the long term (over a few Mya)?**\n",
    "2. **Why does dissolution continue above $c = 1$?**"
   ]
  },
  {
   "cell_type": "markdown",
   "metadata": {},
   "source": [
    "<font style=\"color: red\">\n",
    "\n",
    "1. Pelagic. Neritic deposition is highly unstable because it is vulnerable to the vagaries of sea level change environmental change in shallow seas (storms, sediment runoff).\n",
    "\n",
    "2. As long as $c$ is lower than $c_d$ (saturation concentration at 6.5 km) then dissolution will occur below the lysocline (diagram above). When $c$ is between $c_s$ and $c_d$, the amount of dissolution is a function of the lysocline depth, as described by the equations above."
   ]
  },
  {
   "cell_type": "markdown",
   "metadata": {},
   "source": [
    "## Steady-State Model\n",
    "\n",
    "The above fluxes can be solved for steady state deep-ocean CO<sub>3</sub><sup>2-</sup> concentrations (see Appendix A of [the paper](http://www.doi.org/10.1029/2003GC000538)), yielding:\n",
    "$$\n",
    "c_{strangelove} = c_c + \\left(\\frac{F_{in}}{\\gamma}\\right)^{\\frac{1}{3}} \\\\\n",
    "c_{neritic} = c_n + c_s \\sqrt{\\frac{F_{in}}{F_{_n^0}}} \\\\\n",
    "c_{cretan} = \\begin{cases}\n",
    "c = \\frac{c_s}{2} + \\sqrt{\\left(\\frac{c_s}{2}\\right)^2 + r^{-1} c_b \\Delta} & c \\leq c_b \\\\\n",
    "c = c_d - \\Delta (1 - r^{-1}) & c > c_b\n",
    "\\end{cases}\n",
    "$$\n",
    "\n",
    "The steady-state solution of each scenario is shown in the plot below with some familiar parameters, and one new one, $f$, which is the fraction of neritic vs. open-ocean deposition (when $f = 0$ all deposition is pelagic, when $f = 1$ all deposition is neritic).\n",
    "\n"
   ]
  },
  {
   "cell_type": "code",
   "execution_count": null,
   "metadata": {},
   "outputs": [],
   "source": [
    "model.plot_ss()"
   ]
  },
  {
   "cell_type": "markdown",
   "metadata": {},
   "source": [
    "<img src=\"figs/ans_p4.png\"></img>"
   ]
  },
  {
   "attachments": {},
   "cell_type": "markdown",
   "metadata": {},
   "source": [
    "1. **The Neritian regime can accommodate a wide range of $c$ at $F_b = F_{in}$. Why might $c$ be so variable in the Neritian?**\n",
    "2. **Acidification of the surface ocean would modify the surface saturation $c_s$. Would $c_s$ increase or decrease, and how does this affect steady-state $c$? Does this match with what you learned about the CCD feedback in lectures?**\n",
    "3. **The [CO<sub>3</sub><sup>2-</sup>] of the modern ocean has been measured as 71-85 μmol/kg (c = 1.37-1.63). What biogenic flux is this consistent with in a purely Cretan-mode deposition?**\n",
    "4. **$f$ has been estimated to be ~0.3 for modern conditions. What biogenic flux is this consistent with?**\n",
    "5. **What can you infer about the long-term stability of deep-ocean $c$ from the range of $F_b$ values that it is consistent with?**\n",
    "6. **In both these cases, the carbonate removal flux is greater than the riverine input flux ($F_{in}$)... how can this be? Why hasn't the ocean run out of carbon?**"
   ]
  },
  {
   "cell_type": "markdown",
   "metadata": {},
   "source": [
    "<font style=\"color: red\">\n",
    "\n",
    "1. Neritic deposition can be highly variable (sea level, coastal ecology). In a steady-state, the requirement that $F_{in} = F_{out}$ the variability in the available area for neritic deposition leads to highly variable $c$.\n",
    "\n",
    "2. If the surface ocean pH reduces, [CO3] and $c_s$ will be reduced. This decreases $c$, which would cause the lysocline to get shallower and drive dissolution of deep carbonates, raising $c_s$ and restoring the system to balance.\n",
    "\n",
    "3. 3-6\n",
    "\n",
    "4. 2-3\n",
    "\n",
    "5. Modern $c$ can be produced by a broad range of pelagic carbonate production. This implies that, as long as pelagic deposition occurs, $c$ is relatively stable over long time scales. This is a manifestation of the CCD feedback. \n",
    "\n",
    "6. The over-production of pelagic carbonate is balanced by sub-lysocline dissolution. The total carbonate reaching the sediments (export flux - dissolution) will be equal to $F_{in}$. "
   ]
  }
 ],
 "metadata": {
  "kernelspec": {
   "display_name": "Python 3",
   "language": "python",
   "name": "python3"
  },
  "language_info": {
   "codemirror_mode": {
    "name": "ipython",
    "version": 3
   },
   "file_extension": ".py",
   "mimetype": "text/x-python",
   "name": "python",
   "nbconvert_exporter": "python",
   "pygments_lexer": "ipython3",
   "version": "3.9.2"
  }
 },
 "nbformat": 4,
 "nbformat_minor": 4
}
