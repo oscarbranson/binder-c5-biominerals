{
 "cells": [
  {
   "cell_type": "markdown",
   "metadata": {},
   "source": [
    "# Practical 4: Biomineral Geochemistry\n",
    "\n",
    "A *lot* of effort has been put into measuring the geochemistry of (carbonate) biominerals for use as a palaeoclimate archive. All of these 'proxies' have some underlying physical basis (e.g. the endothermic substitution of Mg for Ca happens at higher temperatures). However, whenever someone measures the geochemistry of a biomineral, it looks different to an inorganic mineral. These differences are known as 'vital effects', which is a bucket-term that encapsulates all the ways that biology can change the geochemistry of a mineral.\n",
    "\n",
    "In this practical, we're going to think about two key processes that might contribute to the 'vital effect' and their influence on geochemical tracers: Rayleigh Fractionation and Precipitation Rate Controls. We'll then think about how we might be able to combine our understanding of these processes with measurements of biomineral geochemistry to learn about the processes of biomineralisation.\n",
    "\n",
    "First, run the code cell below to import the plotting functions you'll use throughout the practical."
   ]
  },
  {
   "cell_type": "code",
   "execution_count": 1,
   "metadata": {},
   "outputs": [],
   "source": [
    "import plot"
   ]
  },
  {
   "cell_type": "markdown",
   "metadata": {},
   "source": [
    "## 1. Modifying Partitioning: Rayleigh Fractionation\n",
    "\n",
    "Precipitation from a closed reservoir can significantly impact the composition of a material. This process is known as Rayleigh Fractionation, and is described by the equation:\n",
    "\n",
    "$$\n",
    "\\frac{M/Ca_{reservoir}}{M/Ca_{initial}} = \\left( \\frac{[Ca]_{reservoir}}{[Ca]_{initial}} \\right)^{K - 1}\n",
    "$$\n",
    "\n",
    "Where $M/Ca$ is the ratio of a trace element to calcium, $[Ca]$ is the concentration of calcium, and $K$ is the partition coefficient of the trace element. In the context of Rayleigh fractionation, it is common to express the fraction of the main element remaining (Ca, in this case) as $f$, so the equation becomes:\n",
    "\n",
    "$$\n",
    "\\frac{M/Ca_{reservoir}}{M/Ca_{initial}} = f^{K - 1}\n",
    "$$\n",
    "\n",
    "To conserve mass, the total amount of trace element in the system must be conserved, such that:\n",
    "\n",
    "$$\n",
    "M/Ca_{initial} = f~M/Ca_{reservoir} + (1 - f)~M/Ca_{biomineral}\n",
    "$$\n",
    "\n",
    "Where $M/Ca_{biomineral}$ is the trace element content of the biomineral.\n",
    "\n",
    "Combine these equations to derive an expression for the distribution coefficient of a trace element into a biomineral ($D_M = \\frac{M/Ca_{biomineral}}{M/Ca_{seawater}}$) as a function of $f$ and $K$. Assume that the initial fluid used for calcification is seawater, and that the biomineral is precipitated from a closed reservoir of calcifying fluid."
   ]
  },
  {
   "cell_type": "markdown",
   "metadata": {},
   "source": [
    "$$\n",
    "\\begin{align}\n",
    "M/Ca_{sw} &= f M/Ca_{cf} + (1 - f) M/Ca_{biomineral} \\\\\n",
    "M/Ca_{cf} &= M/Ca_{sw}~f^{K - 1} \\\\\n",
    "M/Ca_{sw} &= M/Ca_{sw}~f~f^{K - 1} + (1 - f) M/Ca_{biomineral} \\\\\n",
    "M/Ca_{sw} - M/Ca_{sw}~f^{K} &= (1 - f) M/Ca_{biomineral} \\\\\n",
    "M/Ca_{sw} (1 - f^{K}) &= (1 - f) M/Ca_{biomineral} \\\\\n",
    "D_M &= \\frac{M/Ca_{biomineral}}{M/Ca_{sw}} = \\frac{1 - f^{K}}{1 - f}\n",
    "\\end{align}\n",
    "$$"
   ]
  },
  {
   "cell_type": "markdown",
   "metadata": {},
   "source": [
    "Run the cell below to view an interactive graph of Rayleigh fractionation. Change the K value, and consider the following questions:\n",
    "\n",
    "1. If an element has a partition coefficient >1, how does Rayleigh Fractionation affect the distribution coefficient of that element?\n",
    "2. If an element has a partition coefficient <1, how does Rayleigh Fractionation affect the distribution coefficient of that element?\n",
    "3. How does the distribution coefficient in each case change as a function of f?\n",
    "4. What is special about the case where $f=0$?"
   ]
  },
  {
   "cell_type": "code",
   "execution_count": 60,
   "metadata": {},
   "outputs": [
    {
     "data": {
      "application/vnd.jupyter.widget-view+json": {
       "model_id": "4abf8fd8a38042588891359c579a98c8",
       "version_major": 2,
       "version_minor": 0
      },
      "text/plain": [
       "interactive(children=(FloatSlider(value=1.0, description='K', max=2.0, min=0.01, step=0.01), Output()), _dom_c…"
      ]
     },
     "metadata": {},
     "output_type": "display_data"
    }
   ],
   "source": [
    "plot.Rayleigh()"
   ]
  },
  {
   "cell_type": "markdown",
   "metadata": {},
   "source": [
    "Run the code cell below to see the distribution coefficients of trace elements in foraminifera shells plotted against inorganic partitioning coefficients.\n",
    "\n",
    "1. What $f$ value is most consistent with these trace elements?\n",
    "2. Which elements don't fit this model? Why might this be?"
   ]
  },
  {
   "cell_type": "code",
   "execution_count": 61,
   "metadata": {},
   "outputs": [
    {
     "data": {
      "application/vnd.jupyter.widget-view+json": {
       "model_id": "03106dd1e201498fb83614891f2e78bc",
       "version_major": 2,
       "version_minor": 0
      },
      "text/plain": [
       "interactive(children=(FloatSlider(value=-0.001, description='log10f', max=-0.001, min=-6.0, step=0.001), Outpu…"
      ]
     },
     "metadata": {},
     "output_type": "display_data"
    }
   ],
   "source": [
    "plot.foraminifera_Rayleigh()"
   ]
  },
  {
   "cell_type": "markdown",
   "metadata": {},
   "source": [
    "## 2. Precipitation Rate: Surface Kinetic Model\n",
    "\n",
    "The majority of minerals that form in aqueous environments at Earth surface conditions do not form via equilibrium processes. Kinetic factors are a major determinant of the composition of a mineral, and the relative importance of kinetic factors are a strong function of the **precipitation rate** of the mineral.\n",
    "\n",
    "To consider these effects, we need to think about what 'precipitation' means from a kinetic perspective. Even at 'equilibrium' conditions no atom in a structure is completely static. Every atom in a structure has a finite probability of moving to a new site, or leaving the structure into another phase. Each of these 'movements' has an associated energy barrier, and the probability of the movement happening is a function of the energy barrier and free energy available in the environment.\n",
    "\n",
    "For systems like CaCO3 in aqueous environments, this means that there is a constant flux of ions attaching and detaching from the crystal surface. A crystal is in equilibrium (neither growing nor shrinking) when the forward rate ($R_f$) of ion attachment matches the backward rate ($R_b$) of ion detachment. From this, we can define the **precipitation rate** as the difference between the forward and backward rates:\n",
    "\n",
    "$$ R_p = R_f - R_b $$\n",
    "\n",
    "For each of these fluxes, there is a finite probability that a *foreign* ion will attach or detach from the surface. For example, consider Sr, which exists in a solid solution with CaCO3:\n",
    "\n",
    "$$ CaCO_3 + Sr^{2+} \\rightleftharpoons SrCO_3 + Ca^{2+} $$\n",
    "\n",
    "In this case, whenever a Ca attached from the solution, there is a finite probability that a Sr will attach instead. This probability is a function of the relative concentration of Sr and Ca in the solution, and the energy barrier for Sr attachment. Conversely, whenever a Ca detaches from the surface, there is a finite probability that a Sr will detach instead. This probability is a function of the relative concentration of Sr and Ca in the solid, and the energy barrier for Sr detachment. For incompatible impurities (where $K_X$ < 1), the probability of detachment is higher than the probability of attachment, leading to a low equilibrium partition coefficient.\n",
    "\n",
    "This allows us to write down attachment and detachment fluxes for both Ca and Sr independently with respective rate constants $k_f$ and $k_b$:\n",
    "\n",
    "$$\n",
    "\\begin{align}\n",
    "^{Ca}R_f &= ~ ^{Ca}k_f \\cdot [Ca^{2+}] \\cdot [CO_3^{2-}] \\\\\n",
    "^{Sr}R_f &= ~ ^{Sr}k_f \\cdot [Sr^{2+}] \\cdot [CO_3^{2-}] \\\\\n",
    "^{Ca}R_b &= ~ ^{Ca}k_b CaCO_3 \\\\\n",
    "^{Sr}R_b &= ~ ^{Sr}k_b SrCO_3\n",
    "\\end{align}\n",
    "$$\n",
    "\n",
    "From this, we can derive partition coefficients of attachment and detachment:\n",
    "\n",
    "$$\n",
    "\\begin{align}\n",
    "K_f &= \\frac{^{Sr}k_f}{^{Ca}k_f} \\\\\n",
    "K_b &= \\frac{^{Sr}k_b}{^{Ca}k_b}\n",
    "\\end{align}\n",
    "$$\n",
    "\n",
    "And the equilibrium fractionation factor:\n",
    "\n",
    "$$\n",
    "K_{eq} = \\frac{K_f}{K_b} = \\left(\\frac{Sr/Ca_{solid}}{Sr/Ca_{fluid}}\\right)_{eq}\n",
    "$$\n",
    "\n",
    "Combine these equations to write down expressions the rate of Sr attachment ($^{Sr}R_f$) and detachment ($^{Sr}R_b$) as a function of $K_f$, $K_{eq}$, Sr/Ca in the fluid and solid, and the precipitation $(R_p)$ and backward-reaction $(R_b)$ rates of the mineral."
   ]
  },
  {
   "cell_type": "markdown",
   "metadata": {},
   "source": [
    "$$\n",
    "\\begin{align}\n",
    "^{Sr}R_f &= K_f ~Sr/Ca_{fluid}~ R_f = K_f ~Sr/Ca_{fluid}~ (R_p - R_b) \\\\\n",
    "^{Sr}R_b &= \\frac{K_f}{K_{eq}} ~Sr/Ca_{solid}~ R_b\n",
    "\\end{align}\n",
    "$$"
   ]
  },
  {
   "cell_type": "markdown",
   "metadata": {},
   "source": [
    "Next, we can combine the descriptions of these fluxes to consider the composition of a mineral grown at a given precipitation rate, where the composition of the mineral is defined as:\n",
    "\n",
    "$$\n",
    "Sr/Ca_{solid} = \\frac{N_{Sr}}{N_{Ca}}\n",
    "$$\n",
    "\n",
    "Where $N$ is the number of atoms (or moles of atoms) of each element in the solid.\n",
    "\n",
    "To derive a mineral composition from consideration of the fluxes, we can consider the steady-state condition of the mineral that balances the forward and backward fluxes of Sr at a given precipitation rate. This is given by the following equation, which describes the rate of change of Sr as a function of Sr attachment from solution, and detachment from the mineral:\n",
    "\n",
    "$$\n",
    "\\begin{align}\n",
    "\\frac{d Sr/Ca_{solid}}{dt} = 0 &= \\frac{1}{N_{Ca}} \\left(\\frac{dN_{Sr}}{dt} - Sr/Ca_{solid} ~ \\frac{dN_{Ca}}{dt} \\right) \\\\\n",
    "&= \\frac{1}{N_{Ca}} \\left( ~^{Sr}R_p - Sr/Ca_{solid}~R_p \\right)\n",
    "\\end{align}\n",
    "$$\n",
    "\n",
    "Combine this with your expression of Sr attachment and detachment fluxes above to show that the partitioning coefficient of Sr ($K_{Sr}$) into the mineral can be calculated as:\n",
    "\n",
    "$$\n",
    "K_{Sr} = \\frac{K_f}{1 + \\frac{R_b}{R_p + R_b} \\left(\\frac{K_f}{K_{eq}} - 1 \\right)} \\\\\n",
    "\n",
    "$$\n"
   ]
  },
  {
   "cell_type": "markdown",
   "metadata": {},
   "source": [
    "$$\n",
    "\\begin{align}\n",
    "0 &= ~^{Sr}R_f - ~^{Sr}R_b - Sr/Ca_{solid}~R_p\\\\\n",
    "K_f~Sr/Ca_{fluid}~ R_f &= \\frac{K_f}{K_{eq}} ~Sr/Ca_{solid}~ R_b + Sr/Ca_{solid}~R_p  \\\\\n",
    "K_f~Sr/Ca_{fluid}~ R_f &= Sr/Ca_{solid} \\left(\\frac{K_f}{K_{eq}} ~ R_b + R_p \\right) \\\\\n",
    "K_{Sr} = \\frac{Sr/Ca_{solid}}{Sr/Ca_{fluid}} &= \\frac{K_f~ R_f}{\\frac{K_f}{K_{eq}} ~ R_b + R_p} \\\\\n",
    "&= \\frac{K_f~ R_f}{\\frac{K_f}{K_{eq}} ~ R_b + R_f - R_b} \\\\\n",
    "&= \\frac{K_f~ R_f}{R_b \\left(\\frac{K_f}{K_{eq}} - 1 \\right) + R_f} \\\\\n",
    "&= \\frac{K_f}{1 + \\frac{R_b}{R_f} \\left(\\frac{K_f}{K_{eq}} - 1 \\right)} \\\\\n",
    "&= \\frac{K_f}{1 + \\frac{R_b}{R_p + R_b} \\left(\\frac{K_f}{K_{eq}} - 1 \\right)}\n",
    "\\end{align}\n",
    "$$\\"
   ]
  },
  {
   "cell_type": "markdown",
   "metadata": {},
   "source": [
    "Run the code cell below to plot the SKM model, and consider the following questions:\n",
    "\n",
    "1. What effect does $R_b$ have on the partitioning coefficient?\n",
    "2. What factors might affect $R_b$? Is it reasonable to change this parameter?\n",
    "3. The starting plot parameters have a low $K_{eq}$ and a high $K_f$. Will this be the case for all trace elements?"
   ]
  },
  {
   "cell_type": "code",
   "execution_count": 62,
   "metadata": {},
   "outputs": [
    {
     "data": {
      "application/vnd.jupyter.widget-view+json": {
       "model_id": "2a068f3b59394e208918aa614e23c014",
       "version_major": 2,
       "version_minor": 0
      },
      "text/plain": [
       "interactive(children=(FloatSlider(value=1.5, description='Kf', max=2.0, min=0.01, step=0.01), FloatSlider(valu…"
      ]
     },
     "metadata": {},
     "output_type": "display_data"
    }
   ],
   "source": [
    "plot.SKM()"
   ]
  },
  {
   "cell_type": "markdown",
   "metadata": {},
   "source": [
    "Run the code below to re-plot the foraminifera data you saw above, but this time using inorganic partition coefficients calculated by precipitation rate.\n",
    "\n",
    "1. Think about what this exercise is telling you: what does changing precipitation *mean* in this plot?\n",
    "2. Is it possible to explain the distribution of trace elements in foraminifera shells just by changing precipitation rate?\n",
    "3. Is it reasonable to think that trace element partitioning can be predicted using the SKM in foraminifera?"
   ]
  },
  {
   "cell_type": "code",
   "execution_count": 63,
   "metadata": {},
   "outputs": [
    {
     "data": {
      "application/vnd.jupyter.widget-view+json": {
       "model_id": "0666cf0a3be749e0bb2e2801b695ff06",
       "version_major": 2,
       "version_minor": 0
      },
      "text/plain": [
       "interactive(children=(FloatSlider(value=-6.0, description='log10Rp', max=-3.0, min=-9.0, step=0.01), FloatSlid…"
      ]
     },
     "metadata": {},
     "output_type": "display_data"
    }
   ],
   "source": [
    "plot.foraminifera_SKM()"
   ]
  },
  {
   "cell_type": "markdown",
   "metadata": {},
   "source": [
    "## 3. Bringing it together rate and Rayleigh?\n",
    "\n",
    "Run the code cell below to play around with both precipitation rate and Rayleigh fractionation. \n",
    "\n",
    "1. Can trace elements in foraminifera be explained by a combination of these processes? \n",
    "2. Which elements are consistently anomalous? What might this tell you about the processes of biomineralisation?\n",
    "3. If you had to design two experiments to improve our understanding of foraminiferal biomineralisation based on this exercise, what would you focus on?"
   ]
  },
  {
   "cell_type": "code",
   "execution_count": 64,
   "metadata": {},
   "outputs": [
    {
     "data": {
      "application/vnd.jupyter.widget-view+json": {
       "model_id": "422b59fb929a421f933d689b30fb4612",
       "version_major": 2,
       "version_minor": 0
      },
      "text/plain": [
       "interactive(children=(FloatSlider(value=-6.0, description='log10Rp', max=-3.0, min=-9.0, step=0.01), FloatSlid…"
      ]
     },
     "metadata": {},
     "output_type": "display_data"
    }
   ],
   "source": [
    "plot.foraminifera_SKM_Rayleigh()"
   ]
  }
 ],
 "metadata": {
  "kernelspec": {
   "display_name": "py3",
   "language": "python",
   "name": "python3"
  },
  "language_info": {
   "codemirror_mode": {
    "name": "ipython",
    "version": 3
   },
   "file_extension": ".py",
   "mimetype": "text/x-python",
   "name": "python",
   "nbconvert_exporter": "python",
   "pygments_lexer": "ipython3",
   "version": "3.11.6"
  }
 },
 "nbformat": 4,
 "nbformat_minor": 2
}
