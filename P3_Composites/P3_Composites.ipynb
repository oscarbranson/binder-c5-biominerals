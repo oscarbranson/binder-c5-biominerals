{
 "cells": [
  {
   "cell_type": "markdown",
   "metadata": {},
   "source": [
    "# Practical 3 : Composite Structures\n",
    "\n",
    "We've seen in lectures and practicals that biominerals are complex, hierarchical structures.\n",
    "Even those that seem relatively simple contain multiple components, and structure across a range of length scales.\n",
    "Some of these structural components are artefacts of the underlying formation processes of the biomineral, whereas others are evolved features that give the structure distinct properties relating to its function.\n",
    "\n",
    "In this practical, we will examine the mechanical properties of some composites as they relate to biomineral structures."
   ]
  },
  {
   "cell_type": "markdown",
   "metadata": {},
   "source": [
    "## Strain and Stress\n",
    "\n",
    "The fractional distortion of a material (strain, $\\epsilon = \\frac{\\Delta L}{L}$) as a function of an applied pressure (stress, $\\sigma$, force/area) produces a characteristic stress-strain relationship:\n",
    "\n",
    "<div style=\"display: inline; float: left;\">\n",
    "<img src=\"figs/strain_stress.png\" style=\"width: 45%; min-width: 400px;\"> </img>\n",
    "<div style=\"float: left; width: 20%; min-width: 350px;\">\n",
    "    <img src=\"figs/elastic.gif\" style=\"width: 100%\"> </img>\n",
    "    <img src=\"figs/tensiletest.gif\" style=\"width: 100%\"> </img>\n",
    "</div>\n",
    "</div>\n",
    "\n",
    "This a stress-strain curve for a tensile test - where a load is gradually applied along a siogle axis until the material fails.\n",
    "- A: In the elastic region all deformation is elastic and reversible, as descibed by the top animation. This part of the curve is characterised by the Young's, or Elastic Modulus ($E = \\frac{stress}{strain} = \\frac{\\sigma}{\\epsilon}$). Materials with a high Youngs Modulus have high stiffness.\n",
    "- B: Once the material exceeds its Yield Strength, irreversible plastic deformation begins. If the force is removed after this stage elastic processes will return the structure towards its original state, but the materials resting state will have been altered by permanent plastic deformation. The bottom animation begins at the start of plastic deformation.\n",
    "- C: A material's begins to fail at its Ultimate Strength. Beyond this point further distortions will weaken the material, reducing the stress required to induce additional strain. The thinning of the rod in the lower animation is 'necking', which weakens the structure through plastic deformation.\n",
    "- D: Eventually, the material will fail completely and fracture.\n",
    "\n",
    "The amount of energy a material may absorb before failure is given by the integral of its stress-strain curve.\n",
    "\n",
    "These principles are straightforward in homogenous isotropic materials, and scale in complexity with the internal structure of the material.\n",
    "In the case of biominerals, their internal structure can be modelled as a composite of components, the properties and orientation of which can lead to highly anisotropic mechanical properties.\n",
    "\n",
    "As an example, we'll consider the relatively simple case of a fibre-reinforced composite.\n",
    "\n",
    "## 1. Fibre Composites\n",
    "\n",
    "At a basic level, a numer of biomineral structures (or their sub-components) can be considered as fibre composites - a mixture of mineral fibres within an organic matrix.\n",
    "1. **What are some examples of fibrous biominerals?**"
   ]
  },
  {
   "cell_type": "raw",
   "metadata": {},
   "source": [
    "1. "
   ]
  },
  {
   "attachments": {},
   "cell_type": "markdown",
   "metadata": {},
   "source": [
    "Consider an idealised material formed of perfectly aligned fibres within a matrix.\n",
    "\n",
    "<img src=\"figs/fibre_composite.jpg\" style=\"width: 25%; min-width: 400px;\"></img>\n",
    "\n",
    "The mechanical properties of simple composites material can be described by the 'Rule of Mixtures'.\n",
    "The properties may be described in terms of the fractional volume of the fibre ($V_f$) and the matrix ($V_m = 1 - V_f$).\n",
    "Stresses on the material may be considered in terms of two principle axes - parallel or perpendicular to the fibre axis.\n",
    "\n",
    "When a stress in applied along the fibre axis, the contiguity of structure requires that the axial strain experienced by the composite ($\\epsilon_a$), fibres and matrix are all equal:\n",
    "$$\n",
    "\\epsilon_f = \\epsilon_m = \\epsilon_{a}\n",
    "$$\n",
    "The forces experienced by the fibres and matrix must add to balance the total load on the material. Since the forces in each phase are the stresses times the area (numerically equivalent to volume fraction), this yields:\n",
    "$$\n",
    "\\sigma_a = \\sigma_f V_f + \\sigma_m V_m\n",
    "$$\n",
    "which, given that $E = \\frac{\\sigma}{\\epsilon}$, leads to:\n",
    "$$\n",
    "\\sigma_a = E_f \\epsilon_f V_f + E_m \\epsilon_m V_m\n",
    "$$\n",
    "and the stiffness of the composite in the fibre direction can be found by dividing by the strain:\n",
    "$$\n",
    "E_a = \\frac{\\sigma_a}{\\epsilon_a} = E_f V_f + E_m V_m = E_f V_f + E_m (1 - V_f)\n",
    "$$\n",
    "\n",
    "**Properties in the Axial Direction**\n",
    "\n",
    "1. **Sketch a graph of a 50:50 fibre composite that contains stiff fibres (E=100 GPa) and a soft matrix (E=10 GPa). The fibre yields at 1 GPa and breaks at 1.2 GPa. The matrix yields at 0.2 GPa and breaks at 0.4 GPa. Approximate the post-yield ductile region as linear with a slope of 0.1E for both materials.**\n",
    "2. **Calculate the stress-strain positions of the yield and ultimate strengths of the composite.**\n",
    "3. **How would you calculate the toughness of this composite?**"
   ]
  },
  {
   "attachments": {},
   "cell_type": "markdown",
   "metadata": {},
   "source": [
    "**Transverse Forces**\n",
    "\n",
    "Alternatively, if the stress is applied perpendicular to the fibre axis the materials are not contiguous, so can be considered as acting *in series* rather than in parallel.\n",
    "In this case, the strains of each component add to give the transverse strain ($\\epsilon_t$):\n",
    "$$\n",
    "\\epsilon_t = V_m \\epsilon_m + V_f \\epsilon_f\n",
    "$$\n",
    "**Assuming the stress in the matrix and fibres is equal ($\\sigma_f = \\sigma_m = \\sigma_t$), derive an expression for the transverse Young's Modulus of the composite:**"
   ]
  },
  {
   "cell_type": "raw",
   "metadata": {},
   "source": []
  },
  {
   "cell_type": "markdown",
   "metadata": {},
   "source": [
    "Run the code in the cell below to generate a plot of the axial and transverse $E$ of an aligned fibre composite.\n",
    "You can change $E$ for each material to see how the properties of the composite change."
   ]
  },
  {
   "cell_type": "code",
   "execution_count": null,
   "metadata": {},
   "outputs": [],
   "source": [
    "import plot\n",
    "\n",
    "plot.fibre_composite_E()"
   ]
  },
  {
   "cell_type": "markdown",
   "metadata": {},
   "source": [
    "1. **Is a fibre composite stiffer in the axial or transverse direction?**\n",
    "2. **How does the degree of mechanical anisotropy change as the components get more/less similar?**\n",
    "3. **The inclusion of a less-stiff matrix material always decreases the overall stiffness of a composite. Why might it be beneficial to include a matrix in a composite?**\n",
    "4. **Biominerals tend to be composites of a crystal component in an organic matrix. How would E of these materials compare to each other?**\n",
    "5. **Bone is a classically fibrous biomineral (at multiple spatial scales). How would you expect fibres to be aligned in major cortical bones (e.g. femur), given the primary stresses it endures?**"
   ]
  },
  {
   "cell_type": "raw",
   "metadata": {},
   "source": [
    "1. \n",
    "\n",
    "2. \n",
    "\n",
    "3. \n",
    "\n",
    "4. \n",
    "\n",
    "5. "
   ]
  },
  {
   "cell_type": "markdown",
   "metadata": {},
   "source": [
    "The transverse properties in the above describe an idealised system where the stress in the fibres and the matrix are equal.\n",
    "In reality this is rarely the case, and a more complex treatment of off-axial properties is required to reflect real materials.\n",
    "There are many methods to do this, a popular one is the Halpin-Tsai model:\n",
    "$$\n",
    "E_{composite} = \\frac{E_m (E_f + \\xi (V_f E_f + V_m E_m))}{V_f E_m + V_m E_f + \\xi E_m}\n",
    "$$\n",
    "where $\\xi$ is a factor that describes *series coupling* in a variety of geometric states.\n",
    "For transverse loading in a composite reinforced with aligned continuous fibres, $\\xi = 2 + 40 V_f^{10}$.\n",
    "The check-box in the plot above turns on the Halpin-Tsai calculationg of transverse strain, which represents a more realistic approximation of rea-world materials.\n",
    "\n",
    "1. **Why might the assumption of uniform stress in the fibres and matrix not be true?**\n",
    "2. **How does the Halpin-Tsai model differ from the idealised case?**"
   ]
  },
  {
   "cell_type": "raw",
   "metadata": {},
   "source": [
    "1. \n",
    "\n",
    "2. "
   ]
  },
  {
   "cell_type": "markdown",
   "metadata": {},
   "source": [
    "### Fracture\n",
    "Another key property is the fracture stress of a material.\n",
    "In a case where hard fibres reinforce a soft matrix, the fibres will break first at a critical strain level $\\epsilon_{fb}$.\n",
    "The axial stress in the whole composite at its breaking stress ($\\sigma_b$) is given by multiplying by its axial stiffness, which gives a function for axial strength using the rule of mixtures:\n",
    "$$\n",
    "\\sigma_b = \\epsilon_{fb} E_a = V_f \\sigma_{fb} + V_m \\sigma^*\n",
    "$$\n",
    "Where $\\sigma^*$ is the stress in the matrix, given by $\\epsilon_{fb} E_m$.\n",
    "At low $V_f$ this becomes unrealistic, because if the structure is primarily matrix its breaking point will be more dependent on the matrix itself.\n",
    "In this case, the breaking point may be estimated as:\n",
    "$$\n",
    "\\sigma_b = V_m \\sigma_{mb}\n",
    "$$\n",
    "The breaking stress for the composite is then the maximum of either expression of $\\sigma_b$.\n",
    "\n",
    "Run the code below to create a plot of axial fracture strength as a function of fibre fractional volume."
   ]
  },
  {
   "cell_type": "code",
   "execution_count": null,
   "metadata": {},
   "outputs": [],
   "source": [
    "plot.fibre_composite_fracture()"
   ]
  },
  {
   "cell_type": "markdown",
   "metadata": {},
   "source": [
    "1. **Why can the fracture strength *increase* at low fibre content?**\n",
    "2. **This treatment assumes there is no ductile deformation (fracture strength = yield strength). How would ductile deformation alter the fracture strength of the material?**"
   ]
  },
  {
   "cell_type": "raw",
   "metadata": {},
   "source": [
    "1. \n",
    "\n",
    "2. "
   ]
  },
  {
   "cell_type": "markdown",
   "metadata": {},
   "source": [
    "## 2. Spines, Spicules and Bones\n",
    "\n",
    "We've encountered a number of cylindrical biomineral structures in lectures and pracitcals.\n",
    "Each of these can be considered as a composite material, but the mechanical properties depends on the ocerall architecture of the material as well as the properties of its components.\n",
    "Some structures are optimised for flexibility, while others are optimised for axial strength.\n",
    "These biominerals have complex internal structures. \n",
    "Accurately calculating their mechanical properties would require the use [Finite Element Analysis](https://en.wikipedia.org/wiki/Finite_element_method), which is beyond the scope of this course.\n",
    "However, approximating their properties as a cylindrical system allows us consider how variations in the internal mechanical properties of these structures facilitate the properties that they require.\n",
    "\n",
    "The axial properties of these structures can be estimated using the rule of mixtures above.\n",
    "To explore the bending/breaking, or flexural properties, of these structures we must take a brief detour into [beam theory](https://en.wikipedia.org/wiki/Euler%E2%80%93Bernoulli_beam_theory).\n",
    "\n",
    "### Flexural Stresses\n",
    "When a structure is bent it experiences a combination of normal stresses ($\\sigma$) and shear stresses ($\\tau$):\n",
    "\n",
    "<div style=\"display: inline; float: left;\">\n",
    "    <img src=\"figs/bending.png\" style=\"width: 30%; min-width: 400px;\"></img>\n",
    "    <img src=\"figs/bending_stress.png\" style=\"width: 30%; min-width: 400px;\"></img>\n",
    "</div>"
   ]
  },
  {
   "cell_type": "markdown",
   "metadata": {},
   "source": [
    "[In the diagram on the right the forces is applied from below the beam.]\n",
    "\n",
    "To conceptualise these internal forces, consider the beam as a perfect bundle of fibres. Fibres on same side as the force applied on the structure will experience compressive stress, while those on the opposing side will undergo tensile stress.\n",
    "The normal stresses ($\\sigma$) lead to a moment ($M$, rotational force) in the section of the beam, and the shear stresses ($\\tau$) produce a shear force ($V$).\n",
    "These normal stresses are the primary forces experienced by a bending object, to the extent that the applied force that causes the bending may be ignored.\n",
    "In the following we will limit our consideration to the normal forces acting within the cross section.\n",
    "\n",
    "Consider a system where a pressure ($P$) is applied to the centre of a beam supported at both ends:\n",
    "\n",
    "<img src=\"figs/setup.png\" style=\"width: 20%; min-width: 400px;\"> </img>\n",
    "\n",
    "In its equilibrium state, we can calculate the supporting pressure at either end of the beam as $S = 0.5P$, and the moment at distance $x$ along the beam as:\n",
    "$$\n",
    "M = \\frac{P}{2} x  \\quad \\left[0 < x < \\frac{L}{2}\\right] \\\\\n",
    "M = \\frac{P}{2} (L - x)  \\quad \\left[\\frac{L}{2} < x < L\\right]\n",
    "$$\n",
    "Have a look how the $M$ changes as a function of the position of $P$ in the plot below:"
   ]
  },
  {
   "cell_type": "code",
   "execution_count": null,
   "metadata": {},
   "outputs": [],
   "source": [
    "plot.moment_distance()"
   ]
  },
  {
   "cell_type": "markdown",
   "metadata": {},
   "source": [
    "1. **At what $P$ location is $M$ at a maximum?**\n",
    "2. **Write an expression for $M$ at its maximum.**"
   ]
  },
  {
   "cell_type": "raw",
   "metadata": {},
   "source": [
    "1. "
   ]
  },
  {
   "cell_type": "markdown",
   "metadata": {},
   "source": []
  },
  {
   "cell_type": "markdown",
   "metadata": {},
   "source": [
    "How the beam bends under load will depend on both the magnitude and position of P.\n",
    "To understand bending, and from there the flexural strength of the material, we must consider the forces acting within the beam during bending.\n",
    "The distribution of internal stress is not uniform, and is a function of distance from the *bending plane*, where the compressive and tensile forces balance to zero.\n",
    "\n",
    "Returning to our fibre analogy, the forces experienced by a single 'fibre' during bending can be considered as:\n",
    "\n",
    "<img src=\"figs/bending_schematic.png\" style=\"width: 30%; min-width: 400px;\"> </img>\n",
    "\n",
    "Where $x$ is parallel to neutral axis (the bending plane) which experiences no normal stress.\n",
    "\n",
    "1. **Write an expression for strain on fibre $pq$ ($\\epsilon_{pq}$) as a function of bending radius ($R$) and the offset from the neutral axis ($y$).**\n",
    "2. **Assuming the beam is homogeneous and isotropic with known $E$, write an expression for the stress on a given fibre in the beam.**\n"
   ]
  },
  {
   "cell_type": "markdown",
   "metadata": {},
   "source": []
  },
  {
   "cell_type": "markdown",
   "metadata": {},
   "source": [
    "To model the properties of a 3D beam we must consider how stress is distributed across the 2D cross-section of the beam.\n",
    "This is described by the *second moment of area* ($I$), which encapsulates how the area of the structure is distributed around the neutral axis (bisecting the centroid of the structure).\n",
    "For an object with a circular cross section, this is given by:\n",
    "\n",
    "<img src=\"figs/secondmomentofarea.png\" style=\"width: 15%; min-width: 200px;\"> </img>\n",
    "\n",
    "$$\n",
    "I = \\int_A y^2 dA = \\int_0^{2\\pi}\\int_0^r r^3 sin^2 \\theta\\ dr d\\theta = \\frac{\\pi r^4}{4}\n",
    "$$\n",
    "\n",
    "Or, for a thick-walled cylinder characterised by an inner ($r_i$) and outer ($r_o$) radii:\n",
    "$$\n",
    "I = \\frac{\\pi}{4} (r_o^4 - r_i^4)\n",
    "$$\n",
    "\n",
    "The flexural stress in the beam at distance $y$ from the bending plane can then be defined as a function of $I$, $M$:\n",
    "$$\n",
    "\\sigma = \\frac{M y}{I}\n",
    "$$\n",
    "\n",
    "1. **Write the full expression for the flexural stress in a beam supported at both ends with force applied in the centre for both a circular and cylindrical cross section.**.\n",
    "2. **Write an expression for the maximum flexural stress within the beam.**"
   ]
  },
  {
   "cell_type": "markdown",
   "metadata": {},
   "source": []
  },
  {
   "cell_type": "markdown",
   "metadata": {},
   "source": [
    "The point of maximum flexural stress $\\sigma_{max}$ is the stress at which the yield strength of the material is exceeded.\n",
    "The fracture strength of a structure can be approximated by assuming that it will fail when the maximum normal stress within the structure exceeds this limit.\n",
    "In a brittle material this failure leads to fracture, and in a tough material it would lead to ductile deformation.\n",
    "\n",
    "Below is a model of flexural strength in cylindrical materials. Use it to explore the physical properties of urchin spines and glass sponge spicules. Assume both act as perfect elastic materials with no ductile deformation."
   ]
  },
  {
   "cell_type": "code",
   "execution_count": null,
   "metadata": {},
   "outputs": [],
   "source": [
    "plot.cylinder_mechanics()"
   ]
  },
  {
   "cell_type": "markdown",
   "metadata": {},
   "source": [
    "### Urchin Spine\n",
    "\n",
    "We saw in the last practical that an urchin spine diffracts as a single crystal but has heterogeneous mechanical properties.\n",
    "We can approximate this structure as a concentric cylinder with two distinct structural zones:\n",
    "\n",
    "<img src=\"figs/structural_zones.png\" style=\"width: 15%; min-width: 250px;\"> </img>\n",
    "\n",
    "- Zone 1 has a radius of 200 microns, an $E$ of 30 GPa and a $\\sigma_f$ of 0.1 GPa.\n",
    "- Zone 2 has a radius of 400 microns, an $E$ of 60 GPa and a $\\sigma_f$ of 0.12 GPa.\n",
    "\n",
    "1. **Using the model above with a length of 1000 microns, calculate the maximum pressure and deflection before fracture under transverse load for:**\n",
    "    1. **A spine made entirely of Zone 1 material.**\n",
    "    2. **A spine made entirely of Zone 2 material.**\n",
    "    3. **The Zone 1 component of the spine only.**\n",
    "    4. **The Zone 2 component of the spine only.**\n",
    "2. **Use the Rule of Mixtures to calculate the axial Youngs Modulus and fracture stress of the composite structure.**"
   ]
  },
  {
   "cell_type": "code",
   "execution_count": null,
   "metadata": {},
   "outputs": [],
   "source": [
    "# radial Rule of Mixtures implementation\n",
    "import numpy as np\n",
    "def radial_mixture(ri, ro, Ei, Eo):\n",
    "    Ai = np.pi * ri**2\n",
    "    Ao = np.pi * ro**2 - Ai\n",
    "    \n",
    "    fo = Ao / (Ao + Ai)\n",
    "    fi = (1 - fo)\n",
    "    \n",
    "    return Ei * fi + Eo * fo\n",
    "\n",
    "Ecomp = radial_mixture(200, 400, 30, 60)\n",
    "fraccomp = radial_mixture(200, 400, .1, .12)\n",
    "\n",
    "Ecomp, fraccomp"
   ]
  },
  {
   "cell_type": "markdown",
   "metadata": {},
   "source": [
    "<div style=\"float: right\">\n",
    "<img src=\"figs/spine.jpg\" style=\"width: 15%; min-width: 250px;\"> </img>\n",
    "</div>\n",
    "\n",
    "1. **How do the mecahnical properties of Zone 2 compare to a spine made entirely of Zone 2 material?**\n",
    "2. **How do the properties of each component compare (Zone 1 vs. Zone 2)?**\n",
    "3. **In context of the cross sectional structure of an urchin spine, why might this mechanical zoning have been favoured by evolution?**\n",
    "4. **How do the axial properties of the structure compare to that of its components?**"
   ]
  },
  {
   "cell_type": "raw",
   "metadata": {},
   "source": [
    "1. \n",
    "\n",
    "2. \n",
    "\n",
    "3. \n",
    "\n",
    "4. "
   ]
  },
  {
   "cell_type": "markdown",
   "metadata": {},
   "source": [
    "### Sponge Spicule\n",
    "\n",
    "We also saw sponge spicules with the reverse characteristics: a stiffer inner core surrounded by a softer outer layer.\n",
    "\n",
    "- Zone 1 has a radius of 10 microns, an $E$ of 43 GPa and a $\\sigma_f$ of 0.08 GPa.\n",
    "- Zone 2 has a radius of 16.5 microns, an $E$ of 20 GPa and a $\\sigma_f$ of 0.05 GPa.\n",
    "\n",
    "1. **Using the model above with a length of *20 microns*, calculate the maximum pressure and deflection before fracture under transverse load for:**\n",
    "    1. **A spine made entirely of Zone 1 material.**\n",
    "    2. **A spine made entirely of Zone 2 material.**\n",
    "    3. **The Zone 1 component of the spine only.**\n",
    "    4. **The Zone 2 component of the spine only.**\n",
    "2. **Use the Rule of Mixtures to calculate the axial Youngs Modulus and fracture stress of the composite structure.**"
   ]
  },
  {
   "cell_type": "code",
   "execution_count": null,
   "metadata": {},
   "outputs": [],
   "source": [
    "Ecomp = radial_mixture(10, 16.5, 43, 20)\n",
    "fraccomp = radial_mixture(10, 16.5, .04, .08)\n",
    "\n",
    "Ecomp, fraccomp"
   ]
  },
  {
   "cell_type": "markdown",
   "metadata": {},
   "source": [
    "1. **How do the component properties of spicules compare to the properties of an urchin spine?**\n",
    "2. **What might the optimal properties of a spicule be?**\n",
    "3. **How does the architecture of the spicule aid in achieving these optimal properties?**\n",
    "4. **The properties of silica are quite different than calcite. Why might this difference favour the formation of thinner fibres?**"
   ]
  },
  {
   "cell_type": "raw",
   "metadata": {},
   "source": [
    "1. \n",
    "\n",
    "2. \n",
    "\n",
    "3. \n",
    "\n",
    "4. "
   ]
  },
  {
   "cell_type": "markdown",
   "metadata": {},
   "source": [
    "### Finally, elephants:\n",
    "\n",
    "<div style=\"float: right; display: inline-block;\">\n",
    "<img src=\"figs/birdonelephant.jpg\" style=\"width: 15%; min-width: 250px;\"> </img>\n",
    "</div>\n",
    "(Most) Birds are smaller and lighter than (most) elephants. The main structural sections of major bones can be approximated as a thick-walled cylinder. Based on what we've seen above about the mechanical properties of composites and cylinders, would you expect bird or elephant bones to have a higher mineral content?"
   ]
  }
 ],
 "metadata": {
  "kernelspec": {
   "display_name": "py3",
   "language": "python",
   "name": "python3"
  },
  "language_info": {
   "codemirror_mode": {
    "name": "ipython",
    "version": 3
   },
   "file_extension": ".py",
   "mimetype": "text/x-python",
   "name": "python",
   "nbconvert_exporter": "python",
   "pygments_lexer": "ipython3",
   "version": "3.10.9"
  },
  "vscode": {
   "interpreter": {
    "hash": "84814654d570b6154e7b50c8056efce277704a871910502b770b2390c99a6345"
   }
  }
 },
 "nbformat": 4,
 "nbformat_minor": 4
}
