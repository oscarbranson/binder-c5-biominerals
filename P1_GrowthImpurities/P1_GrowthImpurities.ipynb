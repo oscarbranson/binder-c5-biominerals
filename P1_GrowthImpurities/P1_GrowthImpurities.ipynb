{
 "cells": [
  {
   "cell_type": "markdown",
   "metadata": {},
   "source": [
    "# Practical 1: Spiral Growth and Impurities in Calcite"
   ]
  },
  {
   "cell_type": "markdown",
   "metadata": {},
   "source": [
    "'Classical' crystal growth proceeds via the addition of mono-atomic layers to a crystal surface.\n",
    "This growth mechanism is termed 'Terrace-Ledge-Kink' (TLK), 'Terrace-Step-Kink' (TSK) or 'Kossel Model' growth.\n",
    "\n",
    "The crystal-solution interface is unstable relative to the bulk crystal, so the free energy change associated with attaching a new ion to the crystal surface ($\\Delta G_A$) is the sum of the energy changes associated with creating a new interface ($\\Delta G_I$) and adding mass to the solid ($\\Delta G_S$):\n",
    "$$\n",
    "\\Delta G_{A} = \\Delta G_{I} - \\Delta G_{S}\n",
    "$$\n",
    "The most favourable atachment site for new ions is the one that maximises the increase in bulk volume while minimising the increase in surface area.\n",
    "\n",
    "If the starting state is an atomically flat crystal face, the first stage in crystal growth is to create step sites where additional atoms may attach.\n",
    "This process is known as 2D nucleation, involving the creation of 'islands' on the surface.\n",
    "2D nucleation can be considered as a microscopic extension of heterogeneous nucleation on a perfect template (i.e. the interfacial energy between nucleus and substrate is zero).\n",
    "At a given saturation the nucleus is stable when it exceeds a critical size and conversely, a nucleus of given size (e.g. mono-atomic addition) requires a degree of over-saturation to be stable.\n",
    "For example, consider the attachment of a monomer to the crystal surface approximated as a cuboid with dimensions $a$, $b$, $c$.\n",
    "\n",
    "<img src=\"Figs/TLK_geometry.jpg\" style=\"width: 40%; max-width: 600px;\"></img>\n",
    "\n",
    "The change in free energy associated with attaching this monomer is $\\Delta \\mu$, and the interfacial energy is:\n",
    "$$\n",
    "\\Delta G_I = \\gamma (2 a c + 2 b c) \\\\\n",
    "\\Delta G_A = \\gamma (2 a c + 2 b c) - \\Delta \\mu\n",
    "$$\n",
    "Where $\\gamma$ is the interfacial energy term.\n",
    "The addition of a monomer is will be stable when $\\Delta G_A = 0$.\n",
    "\n",
    "1. **Why doesn't $\\Delta G_I$ contain a term for the $ab$ face?**\n",
    "2. **Derive an expression to calculate the saturation where a monomer is stable on the surface (recall that $\\Delta \\mu = k_B T \\sigma$):**"
   ]
  },
  {
   "cell_type": "markdown",
   "metadata": {},
   "source": [
    "\n",
    "\n"
   ]
  },
  {
   "cell_type": "markdown",
   "metadata": {},
   "source": [
    "Extending the same principles 1D nucleation describes the attachment of atoms to step edges to form kink sites.\n",
    "A 1D nucleus is bounded on two sides by a 'perfect' template, which again reduces the energy barrier to nucleation.\n",
    "Once formed, a 1D nucleus provides two adjacent kink sites that are bounded on three sides by existing crystal.\n",
    "These kink sites may then propagate along the step, advancing the step.\n",
    "\n",
    "**Write expressions for the saturation at which**\n",
    "1. **1D nucleation, and**\n",
    "2. **kink attachment**\n",
    "**are stable:**"
   ]
  },
  {
   "cell_type": "markdown",
   "metadata": {},
   "source": [
    "\n",
    "\n"
   ]
  },
  {
   "cell_type": "markdown",
   "metadata": {},
   "source": [
    "1. **Which type of attachment has the highest energy barrer?** "
   ]
  },
  {
   "cell_type": "raw",
   "metadata": {},
   "source": [
    "1. "
   ]
  },
  {
   "cell_type": "markdown",
   "metadata": {},
   "source": [
    "Crystal growth progresses largely through imperfections in crystal structure, which generate a continual source of kink sites on the surface.\n",
    "A particularly important type of dislocation is a *screw dislocation*.\n",
    "\n",
    "Screw dislocations are misalignments in the lattice structure which cause the edge of an atomic layer to protrude above the crystal surface.\n",
    "This protrusion provides a permanent step edge where the energy barrier to 2D nucleation does not have to be overcome.\n",
    "The addition of atoms to dislocations produces characteristic chiral growth patterns on the surface, as can be seen in [Atomic Force Microscopy (AFM)](https://en.wikipedia.org/wiki/Atomic_force_microscopy) analyses of growing mineral surfaces (Teng et al., 1998).\n",
    "\n",
    "<img src=\"Figs/TengSpiral.png\" style=\"width: 40%; max-width: 600px;\"></img>\n",
    "\n",
    "These AFM images show a new growth spiral developing around a dislocation site, and how these patterns correspond to the crystal structure of calcite.\n",
    "Growth proceeds in three directions (a) until a new edge exceeds a critical length, becomes stable, and also begins to grow (b).\n",
    "Note also in (b) the upper corner is not completely formed, and a 'kink' site is visible.\n",
    "The steps provide a substrate for 1D nucleation which creates a kink site that propagates along the length of the step, advancing that step.\n",
    "\n",
    "Growth around dislocations developes a spiral that is characterised by step velocity (v), terrace width (W) and height (h), step length (L) and growth rate (R<sub>f</sub>), which is a function of v, h and W ($R_f = v h / W$).\n",
    "\n",
    "<img src=\"Figs/TLK.png\" style=\"width: 30%; max-width: 400px;\"></img>from DeYoreo and Velikov (2003)\n",
    "\n",
    "1. **Without growth dislocations, which type of nucleation ultiamtely determines the energy barrier to crystal growth?**\n",
    "2. **In the presence of growth dislocations, which type of nucleation dictates the energy barrier to crystal growth?**"
   ]
  },
  {
   "cell_type": "raw",
   "metadata": {},
   "source": [
    "1. \n",
    "\n",
    "2. "
   ]
  },
  {
   "cell_type": "markdown",
   "metadata": {},
   "source": [
    "**Kinetic Aside:** \n",
    "Addition of an atom to a kink site is always thermodynamically favourable in a supersaturated solution, but frequently it does not happen. \n",
    "This is because the stability of that attachment site is only half the story; the kinetics of ions moving through fluid, and attaching and detaching from the crystal face can also play a key role in growth from solutions. \n",
    "Energy barriers to the *desolvation* of ions from solution can be a primary barrier to ion attachment, and the structure of water in crystal-fluid interfaces can play a major role.\n",
    "\n",
    "## Part 1. Growth Spirals\n",
    "\n",
    "The geometry of a growth spiral (W, and therefore side steepness) depends upon the rate of growth from solution (R<sub>f</sub>, and ultimately saturation, $\\sigma$).\n",
    "These AFM images from Davis et al (2004) show growth spirals on the surface of calcite growing in solutions with higher (A) and lower (B) saturation. \n",
    "Not the difference in terrace width (here labelled $\\lambda_+$, same as W), between the two saturation levels.\n",
    "\n",
    "![Spiral Growth](Figs/Davis_Spirals.jpg)\n",
    "\n",
    "Image field of view is 3.5x3 microns.\n",
    "\n",
    "In the following, we will explore how solution saturation controls the critical step length of the growing spiral and growth velocity, which interact to determine terrace width. These parameters interact with the crystal structure to ultimately determine the shape of the growth spiral.\n",
    "\n",
    "### 1.1 Critical Step Length (L<sub>C</sub>)\n",
    "\n",
    "Teng et al (1998) measured $L_C$ for growing calcite spirals using AFM. The following plot shows how $L_C$ is inversely proportional to solution saturation ($\\sigma$) in their data."
   ]
  },
  {
   "cell_type": "code",
   "execution_count": null,
   "metadata": {},
   "outputs": [],
   "source": [
    "import plot # importing plotting functions that will be used throughout"
   ]
  },
  {
   "cell_type": "code",
   "execution_count": null,
   "metadata": {},
   "outputs": [],
   "source": [
    "plot.Teng_LC()"
   ]
  },
  {
   "cell_type": "markdown",
   "metadata": {},
   "source": [
    "1. **Why is $L_C$ different for acute and obtuse steps?**\n",
    "2. **Why in the intecept for both type of step non-zero?**"
   ]
  },
  {
   "cell_type": "raw",
   "metadata": {},
   "source": [
    "1. \n",
    "\n",
    "2. "
   ]
  },
  {
   "cell_type": "markdown",
   "metadata": {},
   "source": [
    "From these data, it is possible to determine the free energy of step edges and the energy barrier 1D nucleation.\n",
    "\n",
    "Similar to our consideration of monomer attachment above, the free energy of a step edge is given by:\n",
    "$$\n",
    "\\Delta g_{\\pm} = 2 c \\gamma_{\\pm} - \\Delta \\mu \\frac{L}{b} \n",
    "$$\n",
    "\n",
    "where:\n",
    "- $\\Delta \\mu$ is the change in chemical potential per molecule (eV)\n",
    "- $\\Delta g$ is the change in free energy per molecule of an acute ($-$) or obtuse ($+$) step edge.\n",
    "- $L$ is the step length\n",
    "- $b$ is the intermolecular distance along the step (6.4 $\\overset{\\circ}{\\mathrm {A}}$)\n",
    "- $c$ is the intermolecular distance between the rows (3.2 $\\overset{\\circ}{\\mathrm {A}}$)\n",
    "- $\\gamma_{\\pm}$ is the free energy of an acute ($-$) or obtuse ($+$) step (eV).\n",
    "\n",
    "1. **Derive an expression for $L_C$ as a function of solution saturation**"
   ]
  },
  {
   "cell_type": "markdown",
   "metadata": {},
   "source": []
  },
  {
   "cell_type": "markdown",
   "metadata": {},
   "source": [
    "Use the interactive plot below to determine:\n",
    "1. **The free energies of obtuse and acute step edges of calcite.**\n",
    "2. **The saturation at which 1D nuclei are stable on step edges (where $L_C = 0$)**"
   ]
  },
  {
   "cell_type": "code",
   "execution_count": null,
   "metadata": {},
   "outputs": [],
   "source": [
    "plot.fit_critLen()"
   ]
  },
  {
   "cell_type": "markdown",
   "metadata": {},
   "source": [
    "### 1.2 Step Velocity\n",
    "\n",
    "We've just seen how a step will only advance when it exceeds a critical length.\n",
    "A second key variable that determines the geometry of a growth spiral is the velocity of an advancing step ($v$).\n",
    "\n",
    "Look at the relationship between step velocity ($v$) and saturation ($\\sigma$)."
   ]
  },
  {
   "cell_type": "code",
   "execution_count": null,
   "metadata": {},
   "outputs": [],
   "source": [
    "plot.Teng_v()"
   ]
  },
  {
   "cell_type": "markdown",
   "metadata": {},
   "source": [
    "1. **What else might influence step velocity apart from $\\sigma$?**\n",
    "2. **Would you expect there to be a difference in $v$ between acute and obtuse steps? Is there one?**"
   ]
  },
  {
   "cell_type": "raw",
   "metadata": {},
   "source": [
    "1. \n",
    "\n",
    "2. "
   ]
  },
  {
   "cell_type": "markdown",
   "metadata": {},
   "source": [
    "To explore the additional control on step velocity, we must remove the effect of saturation from the data. \n",
    "\n",
    "The growth velocity for a step with infinite length is described by:\n",
    "$$\n",
    "v_{\\infty} = \\Omega \\beta (\\alpha - \\alpha_e) \\tag{3}\n",
    "$$\n",
    "\n",
    "Where $\\Omega$ is the volume per growth unit (approximated as a cube), $\\beta$ is the 'kinetic coefficient' (capturing kinetic energy barriers to attachment from solution) and $\\alpha$ is the activity of the growth unit in solution.\n",
    "\n",
    "Using this equation and the expression for $L_C$ you derived above we can calculate the theoretical $v_{\\infty}$ and $L_C$ for all data, then express the measured data relative to those theoretical maxima to 'remove' the influence of saturation. Any remaining pattern in the data is then caused by a different aspect of crystal growth:"
   ]
  },
  {
   "cell_type": "code",
   "execution_count": null,
   "metadata": {},
   "outputs": [],
   "source": [
    "plot.Teng_v_normalised()"
   ]
  },
  {
   "cell_type": "markdown",
   "metadata": {},
   "source": [
    "After the inflence of saturation is removed, we see an asymptotic relationship between step velocity and step length that is independent of saturation and step type.\n",
    "\n",
    "1. **Why is step velocity lower when the steps are short?**"
   ]
  },
  {
   "cell_type": "raw",
   "metadata": {},
   "source": [
    "1. "
   ]
  },
  {
   "cell_type": "markdown",
   "metadata": {},
   "source": [
    "This is a manifestation of the Gibbs-Thomson effect, which predicts a length-dependent step velocity (De Yoreo & Vekilov, 2003):\n",
    "\n",
    "$$\n",
    "v(L) = v_{\\infty}\\left( 1 - \\frac{e^{\\sigma L_c / L} - 1}{e^{\\sigma} - 1} \\right) \\tag{4}\n",
    "$$\n",
    "\n",
    "Compare the prediction of this expression to the observed relationship in the data:"
   ]
  },
  {
   "cell_type": "code",
   "execution_count": null,
   "metadata": {},
   "outputs": [],
   "source": [
    "plot.Teng_v_GT()"
   ]
  },
  {
   "cell_type": "markdown",
   "metadata": {},
   "source": [
    "1. **How does the observed data differ from the Gibbs-Thomson prediction?**\n",
    "2. **Why doesn't Gibbs-Thomson do a good job of predicting the data?**"
   ]
  },
  {
   "cell_type": "raw",
   "metadata": {},
   "source": [
    "1. \n",
    "\n",
    "2. "
   ]
  },
  {
   "cell_type": "markdown",
   "metadata": {},
   "source": [
    "### 1.3 Terrace Width\n",
    "\n",
    "The interaction of $L_C$ and $v$ determine terrace width ($W$) which, in combination with the lattice geometry, determines the shape of the growth spiral.\n",
    "\n",
    "For example, consider an isotropic cube where $v=0$ when $L < L_C$ and jumps discontinuously to $v=v_{\\infty}$ when $L = L_C$. In this case, the terrace width would then be given by $W = 4L_C$.\n",
    "\n",
    "<img src=\"Figs/isotropic_spiral.png\" style=\"width: 30%; max-width: 300px;\"></img>\n",
    "\n",
    "However, as we've seen above $v$ does not increase instantaneously to $v_{\\infty}$, rather $v/v_{\\infty}$ increases gradually as a function of $L/L_C$.\n",
    "The increased $v$ of larger steps will lead to a the terraces becoming broader than we would expect in an idealised isotropic case by a $\\sigma$-sensitivie multiplier is termed the 'Gibbs factor'.\n",
    "This makes terrace width considerably more complex, as the extension rate of each step depends on the length-dependent growth velocities of each adjacent step (Eqn. 4).\n",
    "The extension rate of any step is given by:\n",
    "\n",
    "$$\n",
    "\\frac{\\delta L_N}{\\delta t} = v_{\\infty} \\left( \\frac{e^{\\sigma L_C / L_{N-1}} - 1}{e^{\\sigma} - 1} \\right) + v_{\\infty} \\left( \\frac{e^{\\sigma L_C / L_{N+1}} - 1}{e^{\\sigma} - 1} \\right)\n",
    "$$\n",
    "\n",
    "This ultimately yields a Gibbs factor of ~2.4, predicting a stable terrace width of $\\sim 9.6 L_C$.\n",
    "\n",
    "Think about the resulting relationship between $W$ and $\\sigma$:\n",
    "1. **Should $W$ increase or decrease with $\\sigma$?**\n",
    "2. **Would you expect this relationship to be more similar to the isotropic or Gibbs factor case, or something else entirely?**"
   ]
  },
  {
   "cell_type": "raw",
   "metadata": {},
   "source": [
    "1. \n",
    "\n",
    "2. "
   ]
  },
  {
   "cell_type": "markdown",
   "metadata": {},
   "source": [
    "**Now look at measured terrace width as a function of supersaturation, and compare the predictions of the isotropic and Gibbs factor predictions:**"
   ]
  },
  {
   "cell_type": "code",
   "execution_count": null,
   "metadata": {},
   "outputs": [],
   "source": [
    "plot.Teng_W()"
   ]
  },
  {
   "cell_type": "markdown",
   "metadata": {},
   "source": [
    "1. **Which model does a better job?**\n",
    "2. **Why?**"
   ]
  },
  {
   "cell_type": "raw",
   "metadata": {},
   "source": [
    "1. \n",
    "\n",
    "2. "
   ]
  },
  {
   "cell_type": "markdown",
   "metadata": {},
   "source": [
    "## Exercise 2: Impurities in Calcite Growth\n",
    "\n",
    "The processes above occur in pure solutions containing only the constituents of the crystal and will produce perfect crystal structures. \n",
    "This is extremely rare in nature, and things start to get interesting when impurities interfere with crystal growth processes.\n",
    "For example, calcite grown in the presence of organic molecules and foreign ions take on a wide range of non-rhombohedral forms: \n",
    "\n",
    "<img src=\"Figs/growth_morphology.png\" style=\"width: 30%; max-width: 400px;\"></img>\n",
    "\n",
    "Image from Meldrum & Hyde (2001), showing the influence of malic acid and Mg on calcite morphology. Scale bars in microns.\n",
    "\n",
    "In most cases the impurities inhibit crystal growth, and their interaction with the surface of the crystal leads to the emergence of complex crystal geometries. \n",
    "\n",
    "As an example, we'll consider the simple case of Mg interaction with calcite growth:\n",
    "\n",
    "<img src=\"Figs/Davis_Spirals_Mg.jpg\" style=\"width: 30%; max-width: 300px;\"></img>\n",
    "\n",
    "Image field of view is 3.5x3 microns.\n",
    "\n",
    "This crystal was grown in the same experiment as (B) above, but with the addition of Mg to the solution.\n",
    "\n",
    "1. **What are the main differences in spiral morphology in the presence of Mg?**\n",
    "2. **Why might the influence of Mg vary across the spiral structure?**"
   ]
  },
  {
   "cell_type": "raw",
   "metadata": {},
   "source": [
    "1. \n",
    "\n",
    "2. "
   ]
  },
  {
   "cell_type": "markdown",
   "metadata": {},
   "source": [
    "### Mechanisms of Inhibition\n",
    "\n",
    "There are four primary mechanisms of growth modification by impurities, each of which has a distinct effect on the relationship between step velocity and impurity incorporation.\n",
    "These mechanisms may influence the thermodynamics of solid-solution equilibrium by altering solid or solution structure, the kinetics of molecule attachment and/or detachment from the surfice, or a mixture of both.\n"
   ]
  },
  {
   "cell_type": "markdown",
   "metadata": {},
   "source": [
    "#### 1. Step Pinning\n",
    "\n",
    "Step pinning describes the blocking of step progression by impurities that are adsorbed onto the crystal surface.\n",
    "If an advancing step cannot incorporate or dislodge these impurities its progress is blocked, and it must grow *past* the them and re-form on the other side.\n",
    "Growing past a pinning impurity bears an energy cost analogous to 2D nucleation: the step growing between the pinning impurities will acquire a curvature, increasing the edge length and destabilising the growing edge.\n",
    "Therefore, the step only grows past the impurities if the gap between the impurities is larger than twice the critical radius ($L_i > 2r_c$).\n",
    "Following Gibbs-Thomson, the act of growing past these impurities will slow the growth of the crystal.\n",
    "However, as soon as the step has advanced past the impurities, it rapidly regains its maximum growth velocity.\n",
    "\n",
    "<img src=\"Figs/step_pinning.png\" style=\"width: 30%; max-width: 400px; min-width: 300px;\"></img>\n",
    "\n",
    "The process is show schematically above, but the mathematics are rather complex. If you're interested, take a look at [Voronkov and Rashkovich (1994)](https://doi.org/10.1016/0022-0248(94)90018-3).\n",
    "\n",
    "1. **What does the critical radius ($r_c$) depend on?**\n",
    "2. **What are the ideal characteristics of a step-pinning impurity?**\n",
    "3. **Is Step Pinning inhibition primarily governed by thermodynamic or kinetic factors?**"
   ]
  },
  {
   "cell_type": "raw",
   "metadata": {},
   "source": [
    "1. \n",
    "\n",
    "2. \n",
    "\n",
    "3. "
   ]
  },
  {
   "cell_type": "markdown",
   "metadata": {},
   "source": [
    "#### 2. Incorporation\n",
    "\n",
    "Crystals can accommodate impurities in their structure.\n",
    "In this case, differences in the size and shape of the impurity compared to the host constituent destabilise the mineral (increases free energy), increasing mineral solubility.\n",
    "This process effectively increases the $K_{sp}$ of the crystal, decreasing $\\sigma$.\n",
    "This manifests as a systematic decrease in step velocities, which cannot be overcome by increasing solution saturation:\n",
    "\n",
    "<img src=\"Figs/incorporation.png\" style=\"width: 30%; max-width: 400px;\"></img>\n",
    "\n",
    "1. **What factors determine how compatible an impurity is in a crystal?**\n",
    "2. **What characteristics would an incorporated impurity that maximally inhibits growth have?**\n",
    "3. **Is Incorporation inhibition primarily governed by thermodynamic or kinetic factors?**\n",
    "4. **Why is incorporation inhibition not overcome by increasing bulk solution saturation?**"
   ]
  },
  {
   "cell_type": "raw",
   "metadata": {},
   "source": [
    "1. \n",
    "\n",
    "2. \n",
    "\n",
    "3. \n",
    "\n",
    "4. "
   ]
  },
  {
   "cell_type": "markdown",
   "metadata": {},
   "source": [
    "#### 3. Kink Blocking\n",
    "\n",
    "Kink blocking describes the strong binding of impurities to kink sites, preventing the attachment of the primary ions and stopping the advancement of the kink site along the step edge.\n",
    "For example Mg might attach readily to Ca kink sites but be difficult to detach.\n",
    "If Mg were incompatible with the crystal structure it would both prevent the subsequent addition of CO<sub>3</sub><sup>2-</sup>, as well as blocking the attachment of Ca thus stopping kink progression.\n",
    "The net effect of kink blocking is to reduce the kinetic coefficient ($\\beta$, Eq. 3) as a function of impurity concentration, thus reducing step velocity.\n",
    "\n",
    "<img src=\"Figs/kink_blocking.png\" style=\"width: 30%; max-width: 400px;\"></img>\n",
    "\n",
    "1. **What are the ideal characteristics of a kink-blocking impurity?**\n",
    "2. **Is Kink Blocking primarily governed by thermodynamic or kinetic factors?**"
   ]
  },
  {
   "cell_type": "raw",
   "metadata": {},
   "source": [
    "1. \n",
    "\n",
    "2. "
   ]
  },
  {
   "cell_type": "markdown",
   "metadata": {},
   "source": [
    "#### 4. Surfactants\n",
    "\n",
    "The interaction of surfactants with a crystal surface is complex.\n",
    "They tend to be large, complex molecules which cannot be incorporated into the crystal.\n",
    "They may modify growth by binding to the surface to directly interfere with growth dynamics, or modify the hydration structure of the surface water layer changing local chemistry.\n",
    "The complexity of these molecules can give them a high degree of specificity to crystal faces, making them highly effective modifiers of crystal geometry.\n",
    "\n",
    "<img src=\"Figs/surfactant.png\" style=\"width: 30%; max-width: 400px;\"></img>\n",
    "\n",
    "1. **Would you expect the action of surfactants to be predominantly thermodynamic or kinetic?**"
   ]
  },
  {
   "cell_type": "raw",
   "metadata": {},
   "source": [
    "1. "
   ]
  },
  {
   "cell_type": "markdown",
   "metadata": {},
   "source": [
    "### Mechanism of Mg Inhibition\n",
    "\n",
    "Davis et al (2000) used AFM to measured $v$ as a function of Ca activity in the presence of varying Mg concentrations.\n",
    "The code below creates a plot of their data."
   ]
  },
  {
   "cell_type": "code",
   "execution_count": null,
   "metadata": {},
   "outputs": [],
   "source": [
    "plot.Davis_Mg_v()"
   ]
  },
  {
   "cell_type": "markdown",
   "metadata": {},
   "source": [
    "1. **Which of the above inhibition mechanisms best describes the influence of Mg on calcite growth?**"
   ]
  },
  {
   "cell_type": "raw",
   "metadata": {},
   "source": [
    "1. "
   ]
  },
  {
   "cell_type": "markdown",
   "metadata": {},
   "source": [
    "## Further Reading\n",
    "\n",
    "- [Principles of Crystal Nucleation and Growth. De Yoreo and Velikov (2003). *Reviews in Mineralogy and Geochemistry*](https://pubs.geoscienceworld.org/msa/rimg/article/54/1/57/87490/Principles-of-Crystal-Nucleation-and-Growth)\n",
    "- [Thermodynamics of Calcite Growth: Baseline for Understanding Biomineral Formation. Teng et al (1998), *Science*](http://www.doi.org/10.1126/science.282.5389.724)\n",
    "- [The Role of Mg<sup>2+</sup> as an Impurity in Calcite Growth. Davis et al. (2000), *Science*](http://www.doi.org/10.1126/science.290.5494.1134)"
   ]
  }
 ],
 "metadata": {
  "kernelspec": {
   "display_name": "Python 3",
   "language": "python",
   "name": "python3"
  },
  "language_info": {
   "codemirror_mode": {
    "name": "ipython",
    "version": 3
   },
   "file_extension": ".py",
   "mimetype": "text/x-python",
   "name": "python",
   "nbconvert_exporter": "python",
   "pygments_lexer": "ipython3",
   "version": "3.9.1"
  }
 },
 "nbformat": 4,
 "nbformat_minor": 4
}
